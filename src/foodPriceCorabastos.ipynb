{
 "cells": [
  {
   "cell_type": "markdown",
   "metadata": {},
   "source": [
    "1. __Cargamos las librerias Phython__"
   ]
  },
  {
   "cell_type": "code",
   "execution_count": 1,
   "metadata": {},
   "outputs": [],
   "source": [
    "import urllib3 #Libreria para descargar URL\n",
    "import re #Libreria para exprecion regular"
   ]
  },
  {
   "cell_type": "code",
   "execution_count": 13,
   "metadata": {},
   "outputs": [],
   "source": [
    "# download: funcion para descargar el sitio web\n",
    "# parametros in:\n",
    "# url: direccion del sitio web\n",
    "# num_retries: numeros de reintentos de la solicitud en caso de error\n",
    "# user_agent: informacion de la peticion por defecto el valor 'wswp' (Estandar web scraping con Python)\n",
    "def download(url,user_agent='wswp',num_retries=2):\n",
    "    print ('Downloading:', url)\n",
    "    \n",
    "    headers = {'User-agent': user_agent}\n",
    "    \n",
    "    http = urllib3.PoolManager()\n",
    "    response = http.request('GET', url, retries=False,headers=headers)\n",
    "    \n",
    "    if response.status == 200:\n",
    "        html = response.data\n",
    "    else:\n",
    "        print('Download error: cod_status => ', response.status)\n",
    "        html = None\n",
    "        if num_retries > 0:            \n",
    "            if 500 <= response.status < 600:                \n",
    "                # retry 5XX HTTP errors                \n",
    "                return download(url, user_agent, num_retries-1)\n",
    "    \n",
    "    return html.decode('utf-8')"
   ]
  },
  {
   "cell_type": "markdown",
   "metadata": {},
   "source": [
    "__Descargamos HTML del sitio web__"
   ]
  },
  {
   "cell_type": "code",
   "execution_count": 38,
   "metadata": {},
   "outputs": [
    {
     "name": "stdout",
     "output_type": "stream",
     "text": [
      "Downloading: https://www.corabastos.com.co/sitio/historicoApp2/reportes/prueba.php\n"
     ]
    },
    {
     "name": "stderr",
     "output_type": "stream",
     "text": [
      "/home/datamining/anaconda3/lib/python3.7/site-packages/urllib3/connectionpool.py:847: InsecureRequestWarning: Unverified HTTPS request is being made. Adding certificate verification is strongly advised. See: https://urllib3.readthedocs.io/en/latest/advanced-usage.html#ssl-warnings\n",
      "  InsecureRequestWarning)\n"
     ]
    }
   ],
   "source": [
    "url = 'https://www.corabastos.com.co/sitio/historicoApp2/reportes/prueba.php'\n",
    "html = download(url)\n",
    "# print(\"html => \", html)"
   ]
  },
  {
   "cell_type": "markdown",
   "metadata": {},
   "source": [
    "__Extraer los datos del HTML__\n",
    "\n",
    "Buscamos los datos en el HTML por medio de patrones utilizando expreciones regulares"
   ]
  },
  {
   "cell_type": "code",
   "execution_count": 39,
   "metadata": {},
   "outputs": [],
   "source": [
    "array_tags = re.findall('<img src=\"../img/logosolo.gif\" align=\"bottom\" />(.*?)<br />.*?<div class=\"table-responsive\">(.*?)</div><b>', html,flags=re.DOTALL)"
   ]
  }
 ],
 "metadata": {
  "kernelspec": {
   "display_name": "Python 3",
   "language": "python",
   "name": "python3"
  },
  "language_info": {
   "codemirror_mode": {
    "name": "ipython",
    "version": 3
   },
   "file_extension": ".py",
   "mimetype": "text/x-python",
   "name": "python",
   "nbconvert_exporter": "python",
   "pygments_lexer": "ipython3",
   "version": "3.7.1"
  }
 },
 "nbformat": 4,
 "nbformat_minor": 2
}
