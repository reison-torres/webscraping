{
 "cells": [
  {
   "cell_type": "markdown",
   "metadata": {},
   "source": [
    "# Prerequisitos\n",
    "\n",
    "Para ejecutar el script es necesario instalar la siguientes librerias Python:\n",
    "\n",
    "* pip install pandas\n",
    "* pip install re\n",
    "* pip install numpy\n",
    "* pip install urllib3\n",
    "\n",
    "# Ejecutar Script\n",
    "\n",
    "1. Se debe crear un directorio data en la misma ruta donde se encuentra el script.\n",
    "2. Ejecutar el script __\\# python3 foodPriceCorabastos.py__.\n",
    "3. En directorio __data__ se encuentra el archivo .csv con los datos extraídos del sitio web.\n",
    "\n",
    "\n",
    "# Código fuente"
   ]
  },
  {
   "cell_type": "markdown",
   "metadata": {},
   "source": [
    "__Cargamos las librerias Phython__"
   ]
  },
  {
   "cell_type": "code",
   "execution_count": 1,
   "metadata": {},
   "outputs": [],
   "source": [
    "import urllib3 # Libreria para descargar URL\n",
    "import re # Libreria para exprecion regular\n",
    "import numpy as np # Libreria para crear manipulacion de array\n",
    "import pandas as pd # Libreria para crear manipulacion de DataFrame"
   ]
  },
  {
   "cell_type": "markdown",
   "metadata": {},
   "source": [
    "## Definicion de funciones\n",
    "********\n",
    "\n",
    "\n",
    "**_Funcion:download_**\n",
    "\n",
    "Funcion para descargar el sitio web"
   ]
  },
  {
   "cell_type": "code",
   "execution_count": 2,
   "metadata": {},
   "outputs": [],
   "source": [
    "# download: funcion para descargar el sitio web\n",
    "# parametros in:\n",
    "# url: direccion del sitio web\n",
    "# num_retries: numeros de reintentos de la solicitud en caso de error\n",
    "# user_agent: informacion de la peticion por defecto el valor 'wswp' (Estandar web scraping con Python)\n",
    "def download(url,user_agent='wswp',num_retries=2):\n",
    "    print ('Downloading:', url)\n",
    "    \n",
    "    headers = {'User-agent': user_agent}\n",
    "    \n",
    "    http = urllib3.PoolManager()\n",
    "    response = http.request('GET', url, retries=False,headers=headers)\n",
    "    \n",
    "    if response.status == 200:\n",
    "        html = response.data\n",
    "    else:\n",
    "        print('Download error: cod_status => ', response.status)\n",
    "        html = None\n",
    "        if num_retries > 0:            \n",
    "            if 500 <= response.status < 600:                \n",
    "                # retry 5XX HTTP errors                \n",
    "                return download(url, user_agent, num_retries-1)\n",
    "    \n",
    "    return html.decode('utf-8')"
   ]
  },
  {
   "cell_type": "markdown",
   "metadata": {},
   "source": [
    "**_Funcion: extractData_**\n",
    "\n",
    "Esta funcion extrae los datos del HTML, por medio de patrones utilizando expreciones regulares"
   ]
  },
  {
   "cell_type": "code",
   "execution_count": 3,
   "metadata": {},
   "outputs": [],
   "source": [
    "# extractData: extrae los datos del HTML\n",
    "# parametros in:\n",
    "# html: HTML de la pagina web descargada\n",
    "def extractData(html):\n",
    "    colum_names = ['grupo','nombre','presentacion','cantidad','unidad','cal_extra','cal_primera','valor','fecha_publicacion']\n",
    "    array_html = re.findall('<img src=\"../img/logosolo.gif\" align=\"bottom\" />(.*?)<br />.*?<div class=\"table-responsive\">(.*?)</div><b>', html,flags=re.DOTALL)\n",
    "    df_data = pd.DataFrame(columns=colum_names)\n",
    "    for html_grupo in array_html:\n",
    "        grupo = re.findall('(.*?) Actualizado el: (.{10})', html_grupo[0],flags=re.DOTALL)\n",
    "        tbody_tr = re.findall('<tbody>(.*?)</tbody>', html_grupo[1],flags=re.DOTALL)\n",
    "        array_data = re.findall('<tr.*?>.*?<td.*?>(.*?)</td>.*?<td.*?>(.*?)</td>.*?<td.*?>(.*?)</td>.*?<td.*?>(.*?)</td>.*?<td.*?>(.*?)</td>.*?<td.*?>(.*?)</td>.*?<td.*?>(.*?)</td>.*?</tr>', tbody_tr[0],flags=re.DOTALL)\n",
    "        \n",
    "        #creamos array con los datos\n",
    "        col_grupo = np.full((len(array_data),1), grupo[0][0]) # crear columna grupo\n",
    "        col_fpublicacion = np.full((len(array_data),1), grupo[0][1]) # crear columna fecha publicacion\n",
    "        all_data = np.hstack((col_grupo,array_data,col_fpublicacion)) # crear dataset\n",
    "\n",
    "        df_data = df_data.append(pd.DataFrame(all_data,columns=colum_names),ignore_index=True)\n",
    "        #print(array_data)\n",
    "        #print(all_data)\n",
    "    return df_data"
   ]
  },
  {
   "cell_type": "markdown",
   "metadata": {},
   "source": [
    "## Descargamos HTML del sitio web"
   ]
  },
  {
   "cell_type": "code",
   "execution_count": 4,
   "metadata": {},
   "outputs": [
    {
     "name": "stdout",
     "output_type": "stream",
     "text": [
      "Downloading: https://www.corabastos.com.co/sitio/historicoApp2/reportes/prueba.php\n"
     ]
    },
    {
     "name": "stderr",
     "output_type": "stream",
     "text": [
      "/home/datamining/anaconda3/lib/python3.7/site-packages/urllib3/connectionpool.py:847: InsecureRequestWarning: Unverified HTTPS request is being made. Adding certificate verification is strongly advised. See: https://urllib3.readthedocs.io/en/latest/advanced-usage.html#ssl-warnings\n",
      "  InsecureRequestWarning)\n"
     ]
    }
   ],
   "source": [
    "url = 'https://www.corabastos.com.co/sitio/historicoApp2/reportes/prueba.php'\n",
    "html = download(url)\n",
    "# print(\"html => \", html)"
   ]
  },
  {
   "cell_type": "markdown",
   "metadata": {},
   "source": [
    "## Extraer los datos del HTML y Creamos el DataSet"
   ]
  },
  {
   "cell_type": "code",
   "execution_count": 5,
   "metadata": {
    "scrolled": true
   },
   "outputs": [
    {
     "data": {
      "text/html": [
       "<div>\n",
       "<style scoped>\n",
       "    .dataframe tbody tr th:only-of-type {\n",
       "        vertical-align: middle;\n",
       "    }\n",
       "\n",
       "    .dataframe tbody tr th {\n",
       "        vertical-align: top;\n",
       "    }\n",
       "\n",
       "    .dataframe thead th {\n",
       "        text-align: right;\n",
       "    }\n",
       "</style>\n",
       "<table border=\"1\" class=\"dataframe\">\n",
       "  <thead>\n",
       "    <tr style=\"text-align: right;\">\n",
       "      <th></th>\n",
       "      <th>grupo</th>\n",
       "      <th>nombre</th>\n",
       "      <th>presentacion</th>\n",
       "      <th>cantidad</th>\n",
       "      <th>unidad</th>\n",
       "      <th>cal_extra</th>\n",
       "      <th>cal_primera</th>\n",
       "      <th>valor</th>\n",
       "      <th>fecha_publicacion</th>\n",
       "    </tr>\n",
       "  </thead>\n",
       "  <tbody>\n",
       "    <tr>\n",
       "      <th>0</th>\n",
       "      <td>HORTALIZAS</td>\n",
       "      <td>ACELGA</td>\n",
       "      <td>ATADO</td>\n",
       "      <td>10.00</td>\n",
       "      <td>KILO</td>\n",
       "      <td>$ 10,000</td>\n",
       "      <td>$ 9,000</td>\n",
       "      <td>$ 1,000</td>\n",
       "      <td>2019-10-29</td>\n",
       "    </tr>\n",
       "    <tr>\n",
       "      <th>1</th>\n",
       "      <td>HORTALIZAS</td>\n",
       "      <td>AHUYAMA</td>\n",
       "      <td>KILO</td>\n",
       "      <td>1.00</td>\n",
       "      <td>KILO</td>\n",
       "      <td>$ 1,300</td>\n",
       "      <td>$ 1,100</td>\n",
       "      <td>$ 1,300</td>\n",
       "      <td>2019-10-29</td>\n",
       "    </tr>\n",
       "    <tr>\n",
       "      <th>2</th>\n",
       "      <td>HORTALIZAS</td>\n",
       "      <td>AJO ROSADO</td>\n",
       "      <td>ATADO</td>\n",
       "      <td>5.00</td>\n",
       "      <td>KILO</td>\n",
       "      <td>$ 45,000</td>\n",
       "      <td>$ 43,000</td>\n",
       "      <td>$ 9,000</td>\n",
       "      <td>2019-10-29</td>\n",
       "    </tr>\n",
       "    <tr>\n",
       "      <th>3</th>\n",
       "      <td>HORTALIZAS</td>\n",
       "      <td>ALCACHOFA</td>\n",
       "      <td>DOCENA</td>\n",
       "      <td>5.00</td>\n",
       "      <td>KILO</td>\n",
       "      <td>$ 25,000</td>\n",
       "      <td>$ 23,000</td>\n",
       "      <td>$ 5,000</td>\n",
       "      <td>2019-10-29</td>\n",
       "    </tr>\n",
       "    <tr>\n",
       "      <th>4</th>\n",
       "      <td>HORTALIZAS</td>\n",
       "      <td>APIO</td>\n",
       "      <td>ATADO</td>\n",
       "      <td>10.00</td>\n",
       "      <td>KILO</td>\n",
       "      <td>$ 12,000</td>\n",
       "      <td>$ 10,000</td>\n",
       "      <td>$ 1,200</td>\n",
       "      <td>2019-10-29</td>\n",
       "    </tr>\n",
       "    <tr>\n",
       "      <th>5</th>\n",
       "      <td>HORTALIZAS</td>\n",
       "      <td>ARVEJA VERDE</td>\n",
       "      <td>BULTO</td>\n",
       "      <td>50.00</td>\n",
       "      <td>KILO</td>\n",
       "      <td>$ 190,000</td>\n",
       "      <td>$ 185,000</td>\n",
       "      <td>$ 3,800</td>\n",
       "      <td>2019-10-29</td>\n",
       "    </tr>\n",
       "    <tr>\n",
       "      <th>6</th>\n",
       "      <td>HORTALIZAS</td>\n",
       "      <td>BERENJENA</td>\n",
       "      <td>KILO</td>\n",
       "      <td>1.00</td>\n",
       "      <td>KILO</td>\n",
       "      <td>$ 1,300</td>\n",
       "      <td>$ 1,100</td>\n",
       "      <td>$ 1,300</td>\n",
       "      <td>2019-10-29</td>\n",
       "    </tr>\n",
       "    <tr>\n",
       "      <th>7</th>\n",
       "      <td>HORTALIZAS</td>\n",
       "      <td>BROCOLI</td>\n",
       "      <td>DOCENA</td>\n",
       "      <td>12.00</td>\n",
       "      <td>KILO</td>\n",
       "      <td>$ 30,000</td>\n",
       "      <td>$ 28,000</td>\n",
       "      <td>$ 2,500</td>\n",
       "      <td>2019-10-29</td>\n",
       "    </tr>\n",
       "    <tr>\n",
       "      <th>8</th>\n",
       "      <td>HORTALIZAS</td>\n",
       "      <td>CALABACIN</td>\n",
       "      <td>KILO</td>\n",
       "      <td>1.00</td>\n",
       "      <td>KILO</td>\n",
       "      <td>$ 1,500</td>\n",
       "      <td>$ 1,300</td>\n",
       "      <td>$ 1,500</td>\n",
       "      <td>2019-10-29</td>\n",
       "    </tr>\n",
       "    <tr>\n",
       "      <th>9</th>\n",
       "      <td>HORTALIZAS</td>\n",
       "      <td>CALABAZA</td>\n",
       "      <td>KILO</td>\n",
       "      <td>1.00</td>\n",
       "      <td>KILO</td>\n",
       "      <td>$ 1,500</td>\n",
       "      <td>$ 1,300</td>\n",
       "      <td>$ 1,500</td>\n",
       "      <td>2019-10-29</td>\n",
       "    </tr>\n",
       "  </tbody>\n",
       "</table>\n",
       "</div>"
      ],
      "text/plain": [
       "        grupo        nombre presentacion cantidad unidad  cal_extra  \\\n",
       "0  HORTALIZAS        ACELGA        ATADO    10.00   KILO   $ 10,000   \n",
       "1  HORTALIZAS       AHUYAMA         KILO     1.00   KILO    $ 1,300   \n",
       "2  HORTALIZAS    AJO ROSADO        ATADO     5.00   KILO   $ 45,000   \n",
       "3  HORTALIZAS     ALCACHOFA       DOCENA     5.00   KILO   $ 25,000   \n",
       "4  HORTALIZAS          APIO        ATADO    10.00   KILO   $ 12,000   \n",
       "5  HORTALIZAS  ARVEJA VERDE        BULTO    50.00   KILO  $ 190,000   \n",
       "6  HORTALIZAS     BERENJENA         KILO     1.00   KILO    $ 1,300   \n",
       "7  HORTALIZAS       BROCOLI       DOCENA    12.00   KILO   $ 30,000   \n",
       "8  HORTALIZAS     CALABACIN         KILO     1.00   KILO    $ 1,500   \n",
       "9  HORTALIZAS      CALABAZA         KILO     1.00   KILO    $ 1,500   \n",
       "\n",
       "  cal_primera    valor fecha_publicacion  \n",
       "0     $ 9,000  $ 1,000        2019-10-29  \n",
       "1     $ 1,100  $ 1,300        2019-10-29  \n",
       "2    $ 43,000  $ 9,000        2019-10-29  \n",
       "3    $ 23,000  $ 5,000        2019-10-29  \n",
       "4    $ 10,000  $ 1,200        2019-10-29  \n",
       "5   $ 185,000  $ 3,800        2019-10-29  \n",
       "6     $ 1,100  $ 1,300        2019-10-29  \n",
       "7    $ 28,000  $ 2,500        2019-10-29  \n",
       "8     $ 1,300  $ 1,500        2019-10-29  \n",
       "9     $ 1,300  $ 1,500        2019-10-29  "
      ]
     },
     "execution_count": 5,
     "metadata": {},
     "output_type": "execute_result"
    }
   ],
   "source": [
    "df_data = extractData(html)\n",
    "df_data.head(10) # mostramos las primeras 10 filas del dataset\n"
   ]
  },
  {
   "cell_type": "markdown",
   "metadata": {
    "scrolled": true
   },
   "source": [
    "## Exportamos el DataSet a un archivo con formato CSV"
   ]
  },
  {
   "cell_type": "code",
   "execution_count": 6,
   "metadata": {},
   "outputs": [],
   "source": [
    "#print(df_data.loc[0,'fecha_publicacion'])\n",
    "df_data.to_csv('../data/datos_' + df_data.loc[0,'fecha_publicacion'] + '.csv',index=False)"
   ]
  },
  {
   "cell_type": "code",
   "execution_count": null,
   "metadata": {},
   "outputs": [],
   "source": []
  }
 ],
 "metadata": {
  "kernelspec": {
   "display_name": "Python 3",
   "language": "python",
   "name": "python3"
  },
  "language_info": {
   "codemirror_mode": {
    "name": "ipython",
    "version": 3
   },
   "file_extension": ".py",
   "mimetype": "text/x-python",
   "name": "python",
   "nbconvert_exporter": "python",
   "pygments_lexer": "ipython3",
   "version": "3.7.1"
  }
 },
 "nbformat": 4,
 "nbformat_minor": 2
}
